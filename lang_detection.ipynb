{
 "cells": [
  {
   "cell_type": "code",
   "execution_count": 1,
   "metadata": {},
   "outputs": [],
   "source": [
    "import string\n",
    "import re\n",
    "import codecs\n",
    "import numpy as np\n",
    "import pandas as pd \n",
    "import seaborn as sns\n",
    "import matplotlib.pyplot as plt\n",
    "import warnings\n",
    "warnings.filterwarnings('ignore')"
   ]
  },
  {
   "cell_type": "code",
   "execution_count": 2,
   "metadata": {},
   "outputs": [],
   "source": [
    "from sklearn import feature_extraction\n",
    "from sklearn import linear_model\n",
    "from sklearn import pipeline\n",
    "from sklearn.model_selection import train_test_split\n",
    "from sklearn import metrics\n",
    "from sklearn.metrics import precision_recall_fscore_support"
   ]
  },
  {
   "cell_type": "code",
   "execution_count": 3,
   "metadata": {},
   "outputs": [
    {
     "data": {
      "text/html": [
       "<div>\n",
       "<style scoped>\n",
       "    .dataframe tbody tr th:only-of-type {\n",
       "        vertical-align: middle;\n",
       "    }\n",
       "\n",
       "    .dataframe tbody tr th {\n",
       "        vertical-align: top;\n",
       "    }\n",
       "\n",
       "    .dataframe thead th {\n",
       "        text-align: right;\n",
       "    }\n",
       "</style>\n",
       "<table border=\"1\" class=\"dataframe\">\n",
       "  <thead>\n",
       "    <tr style=\"text-align: right;\">\n",
       "      <th></th>\n",
       "      <th>Text</th>\n",
       "      <th>Language</th>\n",
       "    </tr>\n",
       "  </thead>\n",
       "  <tbody>\n",
       "    <tr>\n",
       "      <th>0</th>\n",
       "      <td>Nature, in the broadest sense, is the natural...</td>\n",
       "      <td>English</td>\n",
       "    </tr>\n",
       "    <tr>\n",
       "      <th>1</th>\n",
       "      <td>\"Nature\" can refer to the phenomena of the phy...</td>\n",
       "      <td>English</td>\n",
       "    </tr>\n",
       "    <tr>\n",
       "      <th>2</th>\n",
       "      <td>The study of nature is a large, if not the onl...</td>\n",
       "      <td>English</td>\n",
       "    </tr>\n",
       "    <tr>\n",
       "      <th>3</th>\n",
       "      <td>Although humans are part of nature, human acti...</td>\n",
       "      <td>English</td>\n",
       "    </tr>\n",
       "    <tr>\n",
       "      <th>4</th>\n",
       "      <td>[1] The word nature is borrowed from the Old F...</td>\n",
       "      <td>English</td>\n",
       "    </tr>\n",
       "    <tr>\n",
       "      <th>...</th>\n",
       "      <td>...</td>\n",
       "      <td>...</td>\n",
       "    </tr>\n",
       "    <tr>\n",
       "      <th>10332</th>\n",
       "      <td>ನಿಮ್ಮ ತಪ್ಪು ಏನು ಬಂದಿದೆಯೆಂದರೆ ಆ ದಿನದಿಂದ ನಿಮಗೆ ಒ...</td>\n",
       "      <td>Kannada</td>\n",
       "    </tr>\n",
       "    <tr>\n",
       "      <th>10333</th>\n",
       "      <td>ನಾರ್ಸಿಸಾ ತಾನು ಮೊದಲಿಗೆ ಹೆಣಗಾಡುತ್ತಿದ್ದ ಮಾರ್ಗಗಳನ್...</td>\n",
       "      <td>Kannada</td>\n",
       "    </tr>\n",
       "    <tr>\n",
       "      <th>10334</th>\n",
       "      <td>ಹೇಗೆ ' ನಾರ್ಸಿಸಿಸಮ್ ಈಗ ಮರಿಯನ್ ಅವರಿಗೆ ಸಂಭವಿಸಿದ ಎ...</td>\n",
       "      <td>Kannada</td>\n",
       "    </tr>\n",
       "    <tr>\n",
       "      <th>10335</th>\n",
       "      <td>ಅವಳು ಈಗ ಹೆಚ್ಚು ಚಿನ್ನದ ಬ್ರೆಡ್ ಬಯಸುವುದಿಲ್ಲ ಎಂದು ...</td>\n",
       "      <td>Kannada</td>\n",
       "    </tr>\n",
       "    <tr>\n",
       "      <th>10336</th>\n",
       "      <td>ಟೆರ್ರಿ ನೀವು ನಿಜವಾಗಿಯೂ ಆ ದೇವದೂತನಂತೆ ಸ್ವಲ್ಪ ಕಾಣು...</td>\n",
       "      <td>Kannada</td>\n",
       "    </tr>\n",
       "  </tbody>\n",
       "</table>\n",
       "<p>10337 rows × 2 columns</p>\n",
       "</div>"
      ],
      "text/plain": [
       "                                                    Text Language\n",
       "0       Nature, in the broadest sense, is the natural...  English\n",
       "1      \"Nature\" can refer to the phenomena of the phy...  English\n",
       "2      The study of nature is a large, if not the onl...  English\n",
       "3      Although humans are part of nature, human acti...  English\n",
       "4      [1] The word nature is borrowed from the Old F...  English\n",
       "...                                                  ...      ...\n",
       "10332  ನಿಮ್ಮ ತಪ್ಪು ಏನು ಬಂದಿದೆಯೆಂದರೆ ಆ ದಿನದಿಂದ ನಿಮಗೆ ಒ...  Kannada\n",
       "10333  ನಾರ್ಸಿಸಾ ತಾನು ಮೊದಲಿಗೆ ಹೆಣಗಾಡುತ್ತಿದ್ದ ಮಾರ್ಗಗಳನ್...  Kannada\n",
       "10334  ಹೇಗೆ ' ನಾರ್ಸಿಸಿಸಮ್ ಈಗ ಮರಿಯನ್ ಅವರಿಗೆ ಸಂಭವಿಸಿದ ಎ...  Kannada\n",
       "10335  ಅವಳು ಈಗ ಹೆಚ್ಚು ಚಿನ್ನದ ಬ್ರೆಡ್ ಬಯಸುವುದಿಲ್ಲ ಎಂದು ...  Kannada\n",
       "10336  ಟೆರ್ರಿ ನೀವು ನಿಜವಾಗಿಯೂ ಆ ದೇವದೂತನಂತೆ ಸ್ವಲ್ಪ ಕಾಣು...  Kannada\n",
       "\n",
       "[10337 rows x 2 columns]"
      ]
     },
     "execution_count": 3,
     "metadata": {},
     "output_type": "execute_result"
    }
   ],
   "source": [
    "df=pd.read_csv(r\"Language Detection.csv\")\n",
    "df"
   ]
  },
  {
   "cell_type": "code",
   "execution_count": 4,
   "metadata": {},
   "outputs": [
    {
     "data": {
      "text/plain": [
       "array(['English', 'Malayalam', 'Hindi', 'Tamil', 'Portugeese', 'French',\n",
       "       'Dutch', 'Spanish', 'Greek', 'Russian', 'Danish', 'Italian',\n",
       "       'Turkish', 'Sweedish', 'Arabic', 'German', 'Kannada'], dtype=object)"
      ]
     },
     "execution_count": 4,
     "metadata": {},
     "output_type": "execute_result"
    }
   ],
   "source": [
    "df['Language'].unique()"
   ]
  },
  {
   "cell_type": "code",
   "execution_count": 5,
   "metadata": {},
   "outputs": [],
   "source": [
    "# Create a translation table to remove punctuation using dictionary comprehension\n",
    "translation_table = dict((ord(char), None) for char in string.punctuation)"
   ]
  },
  {
   "cell_type": "markdown",
   "metadata": {},
   "source": [
    "## TEXT PREPROCESSING"
   ]
  },
  {
   "cell_type": "code",
   "execution_count": 6,
   "metadata": {},
   "outputs": [],
   "source": [
    "processed_data=pd.DataFrame(columns=['text','language'])\n",
    "def clean_data(data,lang):\n",
    "    global processed_data\n",
    "    data_list=[]\n",
    "    lang_list=[]\n",
    "    for i,line in data.iterrows():\n",
    "        line=line['Text']\n",
    "        # print(line)\n",
    "        if len(line) !=0:\n",
    "            line=line.lower()\n",
    "            #removing digits\n",
    "            line=re.sub(r\"\\d+\",\"\",line)\n",
    "            #remove punctuations\n",
    "            line=line.translate(translation_table)\n",
    "            data_list.append(line)\n",
    "            lang_list.append(lang)\n",
    "    # Iterate through the lists and append rows to the DataFrame\n",
    "    for text, lang in zip(data_list, lang_list):\n",
    "        processed_data=processed_data.append({'text':text,'language':lang},ignore_index=True)"
   ]
  },
  {
   "cell_type": "code",
   "execution_count": 7,
   "metadata": {},
   "outputs": [],
   "source": [
    "for i in df['Language'].unique():\n",
    "    clean_data(df[df['Language']==i],i)"
   ]
  },
  {
   "cell_type": "code",
   "execution_count": 8,
   "metadata": {},
   "outputs": [
    {
     "data": {
      "text/html": [
       "<div>\n",
       "<style scoped>\n",
       "    .dataframe tbody tr th:only-of-type {\n",
       "        vertical-align: middle;\n",
       "    }\n",
       "\n",
       "    .dataframe tbody tr th {\n",
       "        vertical-align: top;\n",
       "    }\n",
       "\n",
       "    .dataframe thead th {\n",
       "        text-align: right;\n",
       "    }\n",
       "</style>\n",
       "<table border=\"1\" class=\"dataframe\">\n",
       "  <thead>\n",
       "    <tr style=\"text-align: right;\">\n",
       "      <th></th>\n",
       "      <th>text</th>\n",
       "      <th>language</th>\n",
       "    </tr>\n",
       "  </thead>\n",
       "  <tbody>\n",
       "    <tr>\n",
       "      <th>0</th>\n",
       "      <td>nature in the broadest sense is the natural p...</td>\n",
       "      <td>English</td>\n",
       "    </tr>\n",
       "    <tr>\n",
       "      <th>1</th>\n",
       "      <td>nature can refer to the phenomena of the physi...</td>\n",
       "      <td>English</td>\n",
       "    </tr>\n",
       "    <tr>\n",
       "      <th>2</th>\n",
       "      <td>the study of nature is a large if not the only...</td>\n",
       "      <td>English</td>\n",
       "    </tr>\n",
       "    <tr>\n",
       "      <th>3</th>\n",
       "      <td>although humans are part of nature human activ...</td>\n",
       "      <td>English</td>\n",
       "    </tr>\n",
       "    <tr>\n",
       "      <th>4</th>\n",
       "      <td>the word nature is borrowed from the old fren...</td>\n",
       "      <td>English</td>\n",
       "    </tr>\n",
       "    <tr>\n",
       "      <th>...</th>\n",
       "      <td>...</td>\n",
       "      <td>...</td>\n",
       "    </tr>\n",
       "    <tr>\n",
       "      <th>10332</th>\n",
       "      <td>ನಿಮ್ಮ ತಪ್ಪು ಏನು ಬಂದಿದೆಯೆಂದರೆ ಆ ದಿನದಿಂದ ನಿಮಗೆ ಒ...</td>\n",
       "      <td>Kannada</td>\n",
       "    </tr>\n",
       "    <tr>\n",
       "      <th>10333</th>\n",
       "      <td>ನಾರ್ಸಿಸಾ ತಾನು ಮೊದಲಿಗೆ ಹೆಣಗಾಡುತ್ತಿದ್ದ ಮಾರ್ಗಗಳನ್...</td>\n",
       "      <td>Kannada</td>\n",
       "    </tr>\n",
       "    <tr>\n",
       "      <th>10334</th>\n",
       "      <td>ಹೇಗೆ  ನಾರ್ಸಿಸಿಸಮ್ ಈಗ ಮರಿಯನ್ ಅವರಿಗೆ ಸಂಭವಿಸಿದ ಎಲ...</td>\n",
       "      <td>Kannada</td>\n",
       "    </tr>\n",
       "    <tr>\n",
       "      <th>10335</th>\n",
       "      <td>ಅವಳು ಈಗ ಹೆಚ್ಚು ಚಿನ್ನದ ಬ್ರೆಡ್ ಬಯಸುವುದಿಲ್ಲ ಎಂದು ...</td>\n",
       "      <td>Kannada</td>\n",
       "    </tr>\n",
       "    <tr>\n",
       "      <th>10336</th>\n",
       "      <td>ಟೆರ್ರಿ ನೀವು ನಿಜವಾಗಿಯೂ ಆ ದೇವದೂತನಂತೆ ಸ್ವಲ್ಪ ಕಾಣು...</td>\n",
       "      <td>Kannada</td>\n",
       "    </tr>\n",
       "  </tbody>\n",
       "</table>\n",
       "<p>10337 rows × 2 columns</p>\n",
       "</div>"
      ],
      "text/plain": [
       "                                                    text language\n",
       "0       nature in the broadest sense is the natural p...  English\n",
       "1      nature can refer to the phenomena of the physi...  English\n",
       "2      the study of nature is a large if not the only...  English\n",
       "3      although humans are part of nature human activ...  English\n",
       "4       the word nature is borrowed from the old fren...  English\n",
       "...                                                  ...      ...\n",
       "10332  ನಿಮ್ಮ ತಪ್ಪು ಏನು ಬಂದಿದೆಯೆಂದರೆ ಆ ದಿನದಿಂದ ನಿಮಗೆ ಒ...  Kannada\n",
       "10333  ನಾರ್ಸಿಸಾ ತಾನು ಮೊದಲಿಗೆ ಹೆಣಗಾಡುತ್ತಿದ್ದ ಮಾರ್ಗಗಳನ್...  Kannada\n",
       "10334  ಹೇಗೆ  ನಾರ್ಸಿಸಿಸಮ್ ಈಗ ಮರಿಯನ್ ಅವರಿಗೆ ಸಂಭವಿಸಿದ ಎಲ...  Kannada\n",
       "10335  ಅವಳು ಈಗ ಹೆಚ್ಚು ಚಿನ್ನದ ಬ್ರೆಡ್ ಬಯಸುವುದಿಲ್ಲ ಎಂದು ...  Kannada\n",
       "10336  ಟೆರ್ರಿ ನೀವು ನಿಜವಾಗಿಯೂ ಆ ದೇವದೂತನಂತೆ ಸ್ವಲ್ಪ ಕಾಣು...  Kannada\n",
       "\n",
       "[10337 rows x 2 columns]"
      ]
     },
     "execution_count": 8,
     "metadata": {},
     "output_type": "execute_result"
    }
   ],
   "source": [
    "processed_data"
   ]
  },
  {
   "cell_type": "code",
   "execution_count": 9,
   "metadata": {},
   "outputs": [
    {
     "data": {
      "text/html": [
       "<div>\n",
       "<style scoped>\n",
       "    .dataframe tbody tr th:only-of-type {\n",
       "        vertical-align: middle;\n",
       "    }\n",
       "\n",
       "    .dataframe tbody tr th {\n",
       "        vertical-align: top;\n",
       "    }\n",
       "\n",
       "    .dataframe thead th {\n",
       "        text-align: right;\n",
       "    }\n",
       "</style>\n",
       "<table border=\"1\" class=\"dataframe\">\n",
       "  <thead>\n",
       "    <tr style=\"text-align: right;\">\n",
       "      <th></th>\n",
       "      <th>text</th>\n",
       "      <th>language</th>\n",
       "    </tr>\n",
       "  </thead>\n",
       "  <tbody>\n",
       "    <tr>\n",
       "      <th>9498</th>\n",
       "      <td>wir sind alle auf der suche nach schnellen weg...</td>\n",
       "      <td>German</td>\n",
       "    </tr>\n",
       "    <tr>\n",
       "      <th>9499</th>\n",
       "      <td>ich weiß ich verstehe was passiert ist dass nu...</td>\n",
       "      <td>German</td>\n",
       "    </tr>\n",
       "    <tr>\n",
       "      <th>9500</th>\n",
       "      <td>wie wäre es also mit uns</td>\n",
       "      <td>German</td>\n",
       "    </tr>\n",
       "    <tr>\n",
       "      <th>9501</th>\n",
       "      <td>lernen sie einige intelligente neue englische ...</td>\n",
       "      <td>German</td>\n",
       "    </tr>\n",
       "    <tr>\n",
       "      <th>9502</th>\n",
       "      <td>also werden wir heute  neue intelligente wörte...</td>\n",
       "      <td>German</td>\n",
       "    </tr>\n",
       "    <tr>\n",
       "      <th>...</th>\n",
       "      <td>...</td>\n",
       "      <td>...</td>\n",
       "    </tr>\n",
       "    <tr>\n",
       "      <th>9963</th>\n",
       "      <td>narcisa änderte ihre art und weise sie kämpfte...</td>\n",
       "      <td>German</td>\n",
       "    </tr>\n",
       "    <tr>\n",
       "      <th>9964</th>\n",
       "      <td>wie s narzissmus jetzt erzählt marian beiden a...</td>\n",
       "      <td>German</td>\n",
       "    </tr>\n",
       "    <tr>\n",
       "      <th>9965</th>\n",
       "      <td>hat sie ich denke sie würde jetzt kein goldbro...</td>\n",
       "      <td>German</td>\n",
       "    </tr>\n",
       "    <tr>\n",
       "      <th>9966</th>\n",
       "      <td>terry du siehst tatsächlich ein bisschen wie d...</td>\n",
       "      <td>German</td>\n",
       "    </tr>\n",
       "    <tr>\n",
       "      <th>9967</th>\n",
       "      <td>ihr zwei seid so nett</td>\n",
       "      <td>German</td>\n",
       "    </tr>\n",
       "  </tbody>\n",
       "</table>\n",
       "<p>470 rows × 2 columns</p>\n",
       "</div>"
      ],
      "text/plain": [
       "                                                   text language\n",
       "9498  wir sind alle auf der suche nach schnellen weg...   German\n",
       "9499  ich weiß ich verstehe was passiert ist dass nu...   German\n",
       "9500                           wie wäre es also mit uns   German\n",
       "9501  lernen sie einige intelligente neue englische ...   German\n",
       "9502  also werden wir heute  neue intelligente wörte...   German\n",
       "...                                                 ...      ...\n",
       "9963  narcisa änderte ihre art und weise sie kämpfte...   German\n",
       "9964  wie s narzissmus jetzt erzählt marian beiden a...   German\n",
       "9965  hat sie ich denke sie würde jetzt kein goldbro...   German\n",
       "9966  terry du siehst tatsächlich ein bisschen wie d...   German\n",
       "9967                              ihr zwei seid so nett   German\n",
       "\n",
       "[470 rows x 2 columns]"
      ]
     },
     "execution_count": 9,
     "metadata": {},
     "output_type": "execute_result"
    }
   ],
   "source": [
    "processed_data[processed_data['language']=='German']"
   ]
  },
  {
   "cell_type": "markdown",
   "metadata": {},
   "source": [
    "## splitting data into train and test sets"
   ]
  },
  {
   "cell_type": "code",
   "execution_count": 10,
   "metadata": {},
   "outputs": [
    {
     "name": "stdout",
     "output_type": "stream",
     "text": [
      "(8269,) (2068,) (8269,) (2068,)\n"
     ]
    }
   ],
   "source": [
    "X,y=processed_data.iloc[:,0], processed_data.iloc[:,1]\n",
    "X_train,X_test,y_train,y_test=train_test_split(X,y,test_size=0.2,random_state=0)\n",
    "print(X_train.shape,X_test.shape,y_train.shape,y_test.shape)"
   ]
  },
  {
   "cell_type": "markdown",
   "metadata": {},
   "source": [
    "## vectorizer and model fitting pipeline"
   ]
  },
  {
   "cell_type": "code",
   "execution_count": 11,
   "metadata": {},
   "outputs": [],
   "source": [
    "vectorizer=feature_extraction.text.TfidfVectorizer(ngram_range=(1,3),analyzer='char')"
   ]
  },
  {
   "cell_type": "code",
   "execution_count": 12,
   "metadata": {},
   "outputs": [],
   "source": [
    "pipeline_ldm=pipeline.Pipeline([\n",
    "    ('vectorizer',vectorizer),\n",
    "    ('clf',linear_model.LogisticRegression())\n",
    "])"
   ]
  },
  {
   "cell_type": "markdown",
   "metadata": {},
   "source": [
    "## model fitting"
   ]
  },
  {
   "cell_type": "code",
   "execution_count": 13,
   "metadata": {},
   "outputs": [
    {
     "data": {
      "text/plain": [
       "Pipeline(steps=[('vectorizer',\n",
       "                 TfidfVectorizer(analyzer='char', ngram_range=(1, 3))),\n",
       "                ('clf', LogisticRegression())])"
      ]
     },
     "execution_count": 13,
     "metadata": {},
     "output_type": "execute_result"
    }
   ],
   "source": [
    "pipeline_ldm.fit(X_train,y_train)"
   ]
  },
  {
   "cell_type": "markdown",
   "metadata": {},
   "source": [
    "## model prediction"
   ]
  },
  {
   "cell_type": "code",
   "execution_count": 14,
   "metadata": {},
   "outputs": [
    {
     "data": {
      "text/plain": [
       "array(['Spanish', 'Turkish', 'Russian', ..., 'English', 'Spanish',\n",
       "       'German'], dtype=object)"
      ]
     },
     "execution_count": 14,
     "metadata": {},
     "output_type": "execute_result"
    }
   ],
   "source": [
    "y_pred=pipeline_ldm.predict(X_test)\n",
    "y_pred"
   ]
  },
  {
   "cell_type": "markdown",
   "metadata": {},
   "source": [
    "## model evaluation"
   ]
  },
  {
   "cell_type": "code",
   "execution_count": 15,
   "metadata": {},
   "outputs": [
    {
     "data": {
      "text/plain": [
       "98.0174081237911"
      ]
     },
     "execution_count": 15,
     "metadata": {},
     "output_type": "execute_result"
    }
   ],
   "source": [
    "acc=(metrics.accuracy_score(y_test,y_pred)*100)\n",
    "acc"
   ]
  },
  {
   "cell_type": "code",
   "execution_count": 16,
   "metadata": {},
   "outputs": [],
   "source": [
    "class_names = ['English', 'Malayalam', 'Hindi', 'Tamil', 'Portugeese', 'French',\n",
    "       'Dutch', 'Spanish', 'Greek', 'Russian', 'Danish', 'Italian',\n",
    "       'Turkish', 'Sweedish', 'Arabic', 'German', 'Kannada']"
   ]
  },
  {
   "cell_type": "code",
   "execution_count": 17,
   "metadata": {},
   "outputs": [
    {
     "name": "stdout",
     "output_type": "stream",
     "text": [
      "conf matrix: \n",
      " [[256   0   0   0   0   1   1   0   0   0   0   2   0   0   0   0   0]\n",
      " [  0 114   0   0   0   0   0   0   0   0   0   0   0   0   0   0   0]\n",
      " [  0   0  18   0   0   0   0   0   0   0   0   0   0   0   0   0   0]\n",
      " [  0   0   0  91   0   0   0   0   0   0   0   0   0   0   0   0   0]\n",
      " [  0   0   0   0 147   0   0   3   0   0   0   0   0   0   0   0   0]\n",
      " [  0   0   0   0   0 193   0   1   0   0   0   1   0   0   0   0   0]\n",
      " [  2   0   0   0   0   0 103   0   0   0   1   0   0   0   0   0   0]\n",
      " [  0   0   0   0   2   0   1 152   0   0   0   2   1   0   0   0   0]\n",
      " [  0   0   0   0   0   0   0   0  70   0   0   0   0   0   0   0   0]\n",
      " [  0   0   0   0   0   0   0   0   0 142   0   0   0   0   0   0   0]\n",
      " [  1   0   0   0   0   1   0   1   0   0  72   0   0   2   0   0   0]\n",
      " [  0   0   0   0   3   0   0   3   0   0   1 145   0   0   0   0   0]\n",
      " [  1   0   0   0   0   0   0   0   0   0   0   0  96   0   0   0   0]\n",
      " [  1   0   0   0   0   0   0   0   0   0   2   1   0 135   0   0   0]\n",
      " [  0   0   0   0   0   0   0   0   0   0   0   0   1   0 116   0   0]\n",
      " [  0   0   0   0   0   0   2   0   0   0   1   0   2   0   0 100   0]\n",
      " [  0   0   0   0   0   0   0   0   0   0   0   0   0   0   0   0  77]]\n"
     ]
    }
   ],
   "source": [
    "matrix=metrics.confusion_matrix(y_test,y_pred,labels=class_names)\n",
    "print(\"conf matrix: \\n\",matrix)"
   ]
  },
  {
   "cell_type": "code",
   "execution_count": 18,
   "metadata": {},
   "outputs": [
    {
     "data": {
      "image/png": "[encoded data removed]",
      "text/plain": [
       "<Figure size 800x600 with 2 Axes>"
      ]
     },
     "metadata": {},
     "output_type": "display_data"
    }
   ],
   "source": [
    "plt.figure(figsize=(8, 6))\n",
    "sns.heatmap(matrix, annot=True, fmt='d', cmap='summer',xticklabels=class_names, yticklabels=class_names)\n",
    "plt.xlabel('Predicted')\n",
    "plt.ylabel('True')\n",
    "plt.title('Confusion Matrix')\n",
    "plt.show()"
   ]
  },
  {
   "cell_type": "code",
   "execution_count": 19,
   "metadata": {},
   "outputs": [
    {
     "name": "stdout",
     "output_type": "stream",
     "text": [
      "Precision: 0.98\n",
      "Recall: 0.98\n",
      "F1-score: 0.98\n"
     ]
    }
   ],
   "source": [
    "precision,recall, f1_score, _ = metrics.precision_recall_fscore_support(y_test, y_pred, average='weighted')\n",
    "\n",
    "print(f\"Precision: {precision:.2f}\")\n",
    "print(f\"Recall: {recall:.2f}\")\n",
    "print(f\"F1-score: {f1_score:.2f}\")"
   ]
  },
  {
   "cell_type": "code",
   "execution_count": 20,
   "metadata": {},
   "outputs": [
    {
     "name": "stdout",
     "output_type": "stream",
     "text": [
      "Classification Report:\n",
      "              precision    recall  f1-score   support\n",
      "\n",
      "      Arabic       1.00      0.99      1.00       117\n",
      "      Danish       0.94      0.94      0.94        77\n",
      "       Dutch       0.96      0.97      0.97       106\n",
      "     English       0.98      0.98      0.98       260\n",
      "      French       0.99      0.99      0.99       195\n",
      "      German       1.00      0.95      0.98       105\n",
      "       Greek       1.00      1.00      1.00        70\n",
      "       Hindi       1.00      1.00      1.00        18\n",
      "     Italian       0.96      0.95      0.96       152\n",
      "     Kannada       1.00      1.00      1.00        77\n",
      "   Malayalam       1.00      1.00      1.00       114\n",
      "  Portugeese       0.97      0.98      0.97       150\n",
      "     Russian       1.00      1.00      1.00       142\n",
      "     Spanish       0.95      0.96      0.96       158\n",
      "    Sweedish       0.99      0.97      0.98       139\n",
      "       Tamil       1.00      1.00      1.00        91\n",
      "     Turkish       0.96      0.99      0.97        97\n",
      "\n",
      "    accuracy                           0.98      2068\n",
      "   macro avg       0.98      0.98      0.98      2068\n",
      "weighted avg       0.98      0.98      0.98      2068\n",
      "\n"
     ]
    }
   ],
   "source": [
    "from sklearn.metrics import classification_report\n",
    "\n",
    "# Example true labels and predicted labels\n",
    "true_labels = [0, 1, 2, 0, 1, 2]\n",
    "predicted_labels = [0, 1, 1, 0, 2, 2]\n",
    "\n",
    "report = metrics.classification_report(y_test,y_pred)\n",
    "print(\"Classification Report:\")\n",
    "print(report)\n"
   ]
  },
  {
   "cell_type": "markdown",
   "metadata": {},
   "source": [
    "## model saving and loading"
   ]
  },
  {
   "cell_type": "code",
   "execution_count": 21,
   "metadata": {},
   "outputs": [],
   "source": [
    "import pickle\n",
    "pickle.dump(pipeline_ldm,open( '{}.pkl'.format('LR_LD'),'wb'))"
   ]
  },
  {
   "cell_type": "code",
   "execution_count": 22,
   "metadata": {},
   "outputs": [],
   "source": [
    "def lang_predict(text):\n",
    "    text=\"\".join(text.split())\n",
    "    text=text.lower()\n",
    "    text=re.sub(r\"\\d+\",\"\",text)\n",
    "    #remove punctuations\n",
    "    text=text.translate(translation_table)\n",
    "    model=pickle.load(open( \"{}.pkl\".format('LR_LD'),\"rb\"))\n",
    "    pred=model.predict([text])\n",
    "    return pred[0]\n",
    "    "
   ]
  },
  {
   "cell_type": "code",
   "execution_count": 23,
   "metadata": {},
   "outputs": [
    {
     "name": "stdout",
     "output_type": "stream",
     "text": [
      "The quick brown fox jumps over the lazy dog prediction: English\n",
      "Ο γρήγορος καφέ αλεπού πηδάει πάνω από το τεμπέλικο σκύλο. prediction: Greek\n",
      "Быстрая коричневая лиса прыгает через ленивую собаку. prediction: Russian\n",
      "La volpe veloce salta sopra il cane pigro. prediction: Italian\n",
      "Hızlı kahverengi tilki tembel köpeğin üstünden atlar. prediction: Turkish\n",
      "Den snabba bruna räven hoppar över den lata hunden. prediction: Sweedish\n",
      "الثعلب البني السريع يقفز فوق الكلب الكسول. prediction: Arabic\n",
      "Der schnelle braune Fuchs springt über den faulen Hund. prediction: German\n",
      "ವೇಗವಾಗಿ ಕೂತುಕೊಳ್ಳುವ ಹಳ್ಳಿಗಾಲಿಕೆಯ ನರಿ ಮಂಚವನ್ನು ನೆದೆಯ ನರಿಯ ಮೇಲೆ ಸ್ವಲ್ಪವಾಗಿ ಹಾದುಹೋಗುತ್ತಾನೆ. prediction: Kannada\n",
      "വേഗത്തിൽ കിടന്ന് നടൻ വളർത്തുക. prediction: Malayalam\n",
      "जल्दी का काम शैतान का होता है। prediction: Hindi\n",
      "வேகமாக நடக்க அலறுவேன், குழந்தைகள் பழிவாங்குவார்கள். prediction: Tamil\n",
      "O rápido rapaz marrom pula sobre o cão preguiçoso. prediction: Portugeese\n",
      "Le rapide renard brun saute par-dessus le chien paresseux. prediction: French\n",
      "El rápido zorro marrón salta sobre el perro perezoso. prediction: Spanish\n"
     ]
    }
   ],
   "source": [
    "test_list=[\"The quick brown fox jumps over the lazy dog\",'Ο γρήγορος καφέ αλεπού πηδάει πάνω από το τεμπέλικο σκύλο.','Быстрая коричневая лиса прыгает через ленивую собаку.','La volpe veloce salta sopra il cane pigro.','Hızlı kahverengi tilki tembel köpeğin üstünden atlar.','Den snabba bruna räven hoppar över den lata hunden.','الثعلب البني السريع يقفز فوق الكلب الكسول.','Der schnelle braune Fuchs springt über den faulen Hund.','ವೇಗವಾಗಿ ಕೂತುಕೊಳ್ಳುವ ಹಳ್ಳಿಗಾಲಿಕೆಯ ನರಿ ಮಂಚವನ್ನು ನೆದೆಯ ನರಿಯ ಮೇಲೆ ಸ್ವಲ್ಪವಾಗಿ ಹಾದುಹೋಗುತ್ತಾನೆ.',\"വേഗത്തിൽ കിടന്ന് നടൻ വളർത്തുക.\",'जल्दी का काम शैतान का होता है।','வேகமாக நடக்க அலறுவேன், குழந்தைகள் பழிவாங்குவார்கள்.','O rápido rapaz marrom pula sobre o cão preguiçoso.','Le rapide renard brun saute par-dessus le chien paresseux.','El rápido zorro marrón salta sobre el perro perezoso.']\n",
    "for lang in test_list:\n",
    "    print(lang, \"prediction: {}\".format(lang_predict(lang)) )\n"
   ]
  },
  {
   "cell_type": "code",
   "execution_count": 24,
   "metadata": {},
   "outputs": [
    {
     "data": {
      "text/plain": [
       "'Turkish'"
      ]
     },
     "execution_count": 24,
     "metadata": {},
     "output_type": "execute_result"
    }
   ],
   "source": [
    "lang_predict(\"তাড়াতাড়ি ধরা চাঁদ ইঁদুর ফাঁদে পড়ে যায়।\")"
   ]
  },
  {
   "cell_type": "code",
   "execution_count": 25,
   "metadata": {},
   "outputs": [],
   "source": [
    "# data_eng=[]\n",
    "# lang_eng=[]\n",
    "# for i,line in eng_df.iterrows():\n",
    "#     line=line['Text']\n",
    "#     print(line)\n",
    "#     if len(line) !=0:\n",
    "#         line=line.lower()\n",
    "#         #removing digits\n",
    "#         line=re.sub(r\"\\d+\",\"\",line)\n",
    "#         #remove punctuations\n",
    "#         line=line.translate(translate_table)\n",
    "#         data_eng.append(line)\n",
    "#         lang_eng.append(\"English\")"
   ]
  },
  {
   "cell_type": "code",
   "execution_count": null,
   "metadata": {},
   "outputs": [],
   "source": []
  },
  {
   "cell_type": "code",
   "execution_count": null,
   "metadata": {},
   "outputs": [],
   "source": []
  }
 ],
 "metadata": {
  "kernelspec": {
   "display_name": ".venv",
   "language": "python",
   "name": "python3"
  },
  "language_info": {
   "codemirror_mode": {
    "name": "ipython",
    "version": 3
   },
   "file_extension": ".py",
   "mimetype": "text/x-python",
   "name": "python",
   "nbconvert_exporter": "python",
   "pygments_lexer": "ipython3",
   "version": "3.8.5"
  }
 },
 "nbformat": 4,
 "nbformat_minor": 2
}
